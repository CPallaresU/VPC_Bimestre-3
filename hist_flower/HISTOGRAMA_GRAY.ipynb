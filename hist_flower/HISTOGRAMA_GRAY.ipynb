{
  "nbformat": 4,
  "nbformat_minor": 0,
  "metadata": {
    "colab": {
      "name": "HISTOGRAMA_GRAY.ipynb",
      "provenance": []
    },
    "kernelspec": {
      "name": "python3",
      "display_name": "Python 3"
    },
    "language_info": {
      "name": "python"
    }
  },
  "cells": [
    {
      "cell_type": "code",
      "execution_count": null,
      "metadata": {
        "id": "yfLvHtO_1-9z"
      },
      "outputs": [],
      "source": [
        "import numpy as np\n",
        "import cv2 as cv\n",
        "import matplotlib.pyplot as plt\n",
        "\n",
        "\n",
        "def hist_(path):\n",
        "\n",
        "    img = cv.imread(path)\n",
        "    img_gray = cv.cvtColor(img, cv.COLOR_BGR2GRAY)\n",
        "    hist = cv.calcHist([img_gray],[0],None,[256],[0,256])\n",
        "\n",
        "    # compute and plot the image histograms\n",
        "    # [max value to show] [number of bins] for cv.calHist\n",
        "\n",
        "    plt.plot(hist)\n",
        "        \n",
        "    plt.title('Image Histogram GFG')\n",
        "    plt.show()\n",
        "    \n",
        "    \n",
        "hist_(\"img1_tp.png\")\n",
        "hist_(\"img2_tp.png\")\n",
        "\n",
        "img1 = cv.imread(\"img1_tp.png\")\n",
        "img2 = cv.imread(\"img2_tp.png\")\n",
        "img1_gray = cv.cvtColor(img1, cv.COLOR_BGR2GRAY)\n",
        "img2_gray = cv.cvtColor(img2, cv.COLOR_BGR2GRAY)\n",
        "\n",
        "vec1 = np.sort(np.reshape(img1_gray, 288*287))\n",
        "vec2 = np.sort(np.reshape(img1_gray, 288*287))\n",
        "\n",
        "img1_gray.sort()\n",
        "img2_gray.sort()\n",
        "\n",
        "cont = 0\n",
        "\n",
        "for t in range(len(vec1)):\n",
        "    if vec1[t] == vec2[t]:\n",
        "        cont = cont +1"
      ]
    }
  ]
}