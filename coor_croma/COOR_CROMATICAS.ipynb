{
  "nbformat": 4,
  "nbformat_minor": 0,
  "metadata": {
    "colab": {
      "name": "COOR_CROMATICAS.ipynb",
      "provenance": []
    },
    "kernelspec": {
      "name": "python3",
      "display_name": "Python 3"
    },
    "language_info": {
      "name": "python"
    }
  },
  "cells": [
    {
      "cell_type": "code",
      "execution_count": null,
      "metadata": {
        "id": "2WL53uNo1leO"
      },
      "outputs": [],
      "source": [
        "import cv2 as cv\n",
        "import numpy as np\n",
        "\n",
        "## 9138678373\n",
        "## https://stackoverflow.com/questions/26248654/how-to-return-0-with-divide-by-zero aporte con 50 puntos\n",
        "\n",
        "def div_by_zero (numerator,denominator):\n",
        "\n",
        "    with np.errstate(divide='ignore', invalid='ignore'):\n",
        "        c = np.true_divide(numerator,denominator)\n",
        "        c[c == np.inf] = 0\n",
        "        c = np.nan_to_num(c)\n",
        "    \n",
        "    return c\n",
        "\n",
        "\n",
        "#WHITE-PATCH Y COORDENADAS CROMATICAS\n",
        "\n",
        "B, G, R = cv.split(cv.imread('CoordCrom_3.png'))\n",
        "\n",
        "B = B.astype(np.uint32)\n",
        "G = G.astype(np.uint32)\n",
        "R = R.astype(np.uint32)\n",
        "\n",
        "denominator_ = (B+R+G)\n",
        "denominator = np.reshape(denominator_, np.shape(B)[0]*np.shape(B)[1])\n",
        "\n",
        "\n",
        "B_ = np.reshape(B, np.shape(B)[0]*np.shape(B)[1])\n",
        "G_ = np.reshape(G, np.shape(B)[0]*np.shape(B)[1])\n",
        "R_ = np.reshape(R, np.shape(B)[0]*np.shape(B)[1])\n",
        "\n",
        "\n",
        "B_cc = np.reshape(div_by_zero(B_,denominator) , (np.shape(B)[0],np.shape(B)[1]))\n",
        "G_cc = np.reshape(div_by_zero(G_,denominator) , (np.shape(B)[0],np.shape(B)[1]))\n",
        "R_cc = np.reshape(div_by_zero(R_,denominator) , (np.shape(B)[0],np.shape(B)[1]))\n",
        "\n",
        "merged = cv.merge([B_cc*255, G_cc*255, R_cc*255])\n",
        "\n",
        "cv.imwrite(\"CoordCrom_3_coor.png\", merged)"
      ]
    }
  ]
}