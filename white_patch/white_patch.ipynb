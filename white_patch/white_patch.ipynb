{
  "nbformat": 4,
  "nbformat_minor": 0,
  "metadata": {
    "colab": {
      "name": "white_patch.ipynb",
      "provenance": []
    },
    "kernelspec": {
      "name": "python3",
      "display_name": "Python 3"
    },
    "language_info": {
      "name": "python"
    }
  },
  "cells": [
    {
      "cell_type": "code",
      "execution_count": null,
      "metadata": {
        "id": "DI1loUQy2bsf"
      },
      "outputs": [],
      "source": [
        "import cv2 as cv\n",
        "import numpy as np\n",
        "\n",
        "## 9138678373\n",
        "## https://stackoverflow.com/questions/26248654/how-to-return-0-with-divide-by-zero aporte con 50 puntos\n",
        "\n",
        "def div_by_zero (numerator,denominator):\n",
        "\n",
        "    with np.errstate(divide='ignore', invalid='ignore'):\n",
        "        c = np.true_divide(numerator,denominator)\n",
        "        c[c == np.inf] = 0\n",
        "        c = np.nan_to_num(c)\n",
        "    \n",
        "    return c\n",
        "\n",
        "\n",
        "#WHITE-PATCH Y COORDENADAS CROMATICAS\n",
        "\n",
        "B, G, R = cv.split(cv.imread('wp_green3.jpg'))\n",
        "\n",
        "B = B.astype(np.uint32) * div_by_zero([255],[np.amax(B)])[0]\n",
        "G = G.astype(np.uint32)* div_by_zero([255],[np.amax(G)])[0]\n",
        "R = R.astype(np.uint32)* div_by_zero([255],[np.amax(R)])[0]\n",
        "\n",
        "merged = cv.merge([B, G, R])\n",
        "\n",
        "cv.imwrite(\"wp_patch_green.png\", merged.astype(np.uint8))"
      ]
    }
  ]
}